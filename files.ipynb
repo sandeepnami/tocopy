{
 "cells": [
  {
   "cell_type": "markdown",
   "metadata": {},
   "source": [
    "# CSV Files"
   ]
  },
  {
   "cell_type": "code",
   "execution_count": 4,
   "metadata": {},
   "outputs": [
    {
     "name": "stdout",
     "output_type": "stream",
     "text": [
      "City                Jan Feb Mar Apr May Jun Jul Aug Sep Oct Nov Dec\n",
      "Houston              62  65  72  78  84  90  92  93  88  81  71  63\n",
      "Baghdad              61  66  75  86  97 108 111 111 104  91  75  64\n",
      "Moscow               21  25  36  50  64  72  73  70  59  46  34  25\n",
      "San Francisco        57  62  63  64  66  67  68  70  69  63  63  57\n",
      "Chicago              32  36  46  59  70  81  84  82  75  63  48  36\n",
      "Sydney               79  79  77  73  68  64  63  64  68  72  75  79\n",
      "Paris                45  46  54  61  68  73  77  77  70  61  52  46\n",
      "Tokyo                46  48  54  63  70  75  82  84  79  68  59  52\n",
      "Shanghai 55          46  48  55  66  75  81  90  90  81  72  63  52\n",
      "\n",
      "\n",
      "\"City               Country\" Jan Feb Mar Apr May Jun Jul Aug Sep Oct Nov Dec\n",
      "\"Houston            USA\"  62  65  72  78  84  90  92  93  88  81  71  63\n",
      "\"Baghdad            Iraq\"  61  66  75  86  97 108 111 111 104  91  75  64\n",
      "\"Moscow             Russia\"  21  25  36  50  64  72  73  70  59  46  34  25\n",
      "\"San Francisco      USA\"  57  62  63  64  66  67  68  70  69  63  63  57\n",
      "\"Chicago            USA\"  32  36  46  59  70  81  84  82  75  63  48  36\n",
      "\"Sydney             Australia\"  79  79  77  73  68  64  63  64  68  72  75  79\n",
      "\"Paris              France\"  45  46  54  61  68  73  77  77  70  61  52  46\n",
      "\"Tokyo              Japan\"  46  48  54  63  70  75  82  84  79  68  59  52\n",
      "\"Shanghai           China\"  55  46  48  55  66  75  81  90  90  81  72  63\n"
     ]
    }
   ],
   "source": [
    "\"\"\"\n",
    "Example code to read and parse a CSV file.\n",
    "\"\"\"\n",
    "\n",
    "def parse(csvfilename):\n",
    "    \"\"\"\n",
    "    Reads CSV file named csvfilename, parses\n",
    "    it's content and returns the data within\n",
    "    the file as a list of lists.\n",
    "    \"\"\"\n",
    "    table = []\n",
    "    with open(csvfilename, \"r\") as csvfile:\n",
    "        for line in csvfile:\n",
    "            line = line.rstrip()\n",
    "            columns = line.split(',')\n",
    "            table.append(columns)\n",
    "    return table\n",
    "\n",
    "\n",
    "def print_table(table):\n",
    "    \"\"\"\n",
    "    Print out table, which must be a list\n",
    "    of lists, in a nicely formatted way.\n",
    "    \"\"\"\n",
    "    for row in table:\n",
    "        # Header column left justified\n",
    "        print(\"{:<19}\".format(row[0]), end='')\n",
    "        # Remaining columns right justified\n",
    "        for col in row[1:]:\n",
    "            print(\"{:>4}\".format(col), end='')\n",
    "        print(\"\", end='\\n')\n",
    "\n",
    "table = parse(\"hightemp.csv\")\n",
    "print_table(table)\n",
    "\n",
    "print(\"\")\n",
    "print(\"\")\n",
    "\n",
    "table2 = parse(\"hightemp2.csv\")\n",
    "print_table(table2)"
   ]
  },
  {
   "cell_type": "markdown",
   "metadata": {},
   "source": []
  }
 ],
 "metadata": {
  "kernelspec": {
   "display_name": "Python 3",
   "language": "python",
   "name": "python3"
  },
  "language_info": {
   "codemirror_mode": {
    "name": "ipython",
    "version": 3
   },
   "file_extension": ".py",
   "mimetype": "text/x-python",
   "name": "python",
   "nbconvert_exporter": "python",
   "pygments_lexer": "ipython3",
   "version": "3.11.0"
  }
 },
 "nbformat": 4,
 "nbformat_minor": 2
}
