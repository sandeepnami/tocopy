{
 "cells": [
  {
   "cell_type": "markdown",
   "metadata": {},
   "source": [
    "# File Handling"
   ]
  },
  {
   "cell_type": "code",
   "execution_count": 6,
   "metadata": {},
   "outputs": [],
   "source": [
    "import re"
   ]
  },
  {
   "cell_type": "code",
   "execution_count": 7,
   "metadata": {},
   "outputs": [],
   "source": [
    "split_by = 1000\n",
    "insert_str = 'INSERT INTO #employees VALUES \\n'    \n",
    "file_name = 'load_employees.sql'\n",
    "out_file_name = 'load_employees_insert1000.sql'\n",
    "\n",
    "\n",
    "with open(file_name, 'r') as file:\n",
    "    rec_cnt = 0\n",
    "    out_file = open(out_file_name, 'w')\n",
    "    for line in file:\n",
    "        rec_cnt += 1\n",
    "        if rec_cnt == 1:\n",
    "            out_file.write(insert_str)\n",
    "            out_file.write(line)        \n",
    "        elif rec_cnt == split_by:\n",
    "            line = re.sub(r'\\),', ')', line) # search for ), and replace with )\n",
    "            out_file.write(line)\n",
    "            out_file.write(';\\n')\n",
    "            rec_cnt = 0\n",
    "        else:\n",
    "            out_file.write(line)\n",
    "\n",
    "out_file.close()"
   ]
  },
  {
   "cell_type": "markdown",
   "metadata": {},
   "source": [
    "# Zoned Decimal Handling"
   ]
  },
  {
   "cell_type": "code",
   "execution_count": 3,
   "metadata": {},
   "outputs": [],
   "source": [
    "import os \n",
    "import pandas as pd"
   ]
  },
  {
   "cell_type": "code",
   "execution_count": 4,
   "metadata": {},
   "outputs": [],
   "source": [
    "def zoned_decimal_to_float(zoned_decimal):\n",
    "\t# Mapping of zoned decimal sign characters to their corresponding digits\n",
    "\tsign_map = {\n",
    "\t\t'{': '0', 'A': '1', 'B': '2', 'C': '3', 'D': '4',\n",
    "\t\t'E': '5', 'F': '6', 'G': '7', 'H': '8', 'I': '9',\n",
    "\t\t'}': '0', 'J': '1', 'K': '2', 'L': '3', 'M': '4',\n",
    "\t\t'N': '5', 'O': '6', 'P': '7', 'Q': '8', 'R': '9'\n",
    "\t}\n",
    "\ttry:\n",
    "\t\t# Extract the last character to determine the sign and last digit\n",
    "\t\tlast_char = zoned_decimal[-1]\n",
    "\t\t\n",
    "\t\t# Determine if the number is negative\n",
    "\t\tis_negative = last_char in '}JKLMNOPQR'\n",
    "\t\t\n",
    "\t\t# Get the last digit from the sign map\n",
    "\t\tlast_digit = sign_map[last_char]\n",
    "\t\n",
    "\t\t# Combine the integer part with the last digit\n",
    "\t\tnumeric_part = zoned_decimal[:-1] + last_digit\n",
    "\t\t\n",
    "\t\t# Convert to float\n",
    "\t\tresult = float(numeric_part)\n",
    "\t\n",
    "\t\t# Apply the sign\n",
    "\t\tif is_negative:\n",
    "\t\t\tresult = -result\n",
    "\texcept KeyError as e:\n",
    "\t\tresult = 0\n",
    "\t\tprint(f\"{e} Invalid zoned decimal format for {zoned_decimal}\")\t\t\n",
    "\treturn result/100\n"
   ]
  },
  {
   "cell_type": "code",
   "execution_count": null,
   "metadata": {},
   "outputs": [],
   "source": [
    "# Example usage\n",
    "zoned_decimal = \"0000001150{\"\n",
    "numeric_value = zoned_decimal_to_float(zoned_decimal)\n",
    "print(numeric_value)  # Output: 1150.0\n",
    "\n",
    "excel_dir = r\"C:\\Users\\ny4007991\\OneDrive - Munich Re\\Professional\\Munich Re\"\n",
    "excel_file = r\"Imp Points Munich RE Mainframe.xlsx\"\n",
    "excel_path = os.path.join(excel_dir, excel_file)\n",
    "pandas_df = pd.read_excel(excel_path,sheet_name=\"Temp1\",header=None)\n",
    "grossprem_F = pandas_df.iloc[:,5]\n",
    "netprem_G = pandas_df.iloc[:,5]\t\n",
    "grossprem_F_float = grossprem_F.map(zoned_decimal_to_float)\n",
    "netprem_G_float = netprem_G.map(zoned_decimal_to_float)\n",
    "# print(pandas_df.head())\n",
    "# print(grossprem_F.head())\n",
    "# print(grossprem_F_float.head())\n",
    "print(grossprem_F_float.values)\n",
    "print(\"Gross Prem sum=\",grossprem_F_float.sum())\n",
    "print(netprem_G_float.head())\n",
    "print(\"Net Prem sum=\",netprem_G_float.sum())"
   ]
  },
  {
   "cell_type": "code",
   "execution_count": null,
   "metadata": {},
   "outputs": [],
   "source": []
  },
  {
   "cell_type": "markdown",
   "metadata": {},
   "source": [
    "# Excel"
   ]
  },
  {
   "cell_type": "markdown",
   "metadata": {},
   "source": [
    "### ILegal Characters in Excel"
   ]
  },
  {
   "cell_type": "code",
   "execution_count": 8,
   "metadata": {},
   "outputs": [],
   "source": [
    "import pandas as pd\n",
    "import re\n",
    "import os\n",
    "import sys"
   ]
  },
  {
   "cell_type": "code",
   "execution_count": null,
   "metadata": {},
   "outputs": [],
   "source": [
    "# Define a list of illegal characters for Excel\n",
    "illegal_chars = ['\u001a','→']\n",
    "# Create a regex pattern to match any of the illegal characters\n",
    "illegal_chars_pattern = re.compile(f\"[{''.join(re.escape(char) for char in illegal_chars)}]\")\n",
    "# print(illegal_chars_pattern)\n",
    "\n",
    "\n"
   ]
  },
  {
   "cell_type": "code",
   "execution_count": 11,
   "metadata": {},
   "outputs": [],
   "source": [
    "\"\"\"\n",
    "Explanation\n",
    "contains_illegal_chars function:\n",
    "\n",
    "This function checks if a given string contains any illegal characters defined by the regex pattern.\n",
    "It returns True if illegal characters are found, otherwise False.\n",
    "Reading the CSV file:\n",
    "\n",
    "The CSV file is read into a DataFrame using pd.read_csv.\n",
    "Applying the function:\n",
    "\n",
    "The contains_illegal_chars function is applied to each cell in the DataFrame using applymap.\n",
    "Filtering the DataFrame:\n",
    "\n",
    "The DataFrame is filtered to get only the cells that contain illegal characters.\n",
    "Additional Steps\n",
    "Update the illegal_chars_pattern to include any other illegal characters you want to check for.\n",
    "Run the script and verify the output to ensure it correctly identifies cells with illegal characters.\n",
    "\"\"\"\n",
    "def contains_illegal_chars(value):\n",
    "    \"\"\"\n",
    "    Check if the value contains any illegal characters.\n",
    "    \"\"\"\n",
    "    if isinstance(value, str):\n",
    "        return bool(illegal_chars_pattern.search(value))\n",
    "    return False\n",
    "\n",
    "def remove_illegal_chars(value):\n",
    "    \"\"\"\n",
    "    Remove illegal characters from the value.\n",
    "    \"\"\"\n",
    "    if isinstance(value, str):\n",
    "        # Define a regex pattern to match illegal characters\n",
    "        # Replace illegal characters with an empty string\n",
    "        return illegal_chars_pattern.sub('', value)\n",
    "    return value\n",
    "\n"
   ]
  },
  {
   "cell_type": "code",
   "execution_count": null,
   "metadata": {},
   "outputs": [],
   "source": [
    "# Demonstration of the functions\n",
    "# Read the CSV file into a DataFrame\n",
    "dir = r\"C:\\Users\\ny4007991\\OneDrive - Munich Re\\Professional\\Munich Re\\Email Supp\\Excel Dumps & Files\\202407 July\\RE Auto-Owners Cyber Suite 4355 and HCP 4632 inforce and bordereau files - June 2024\"\n",
    "file_nm = 'CBS4355CBORD.txt'\n",
    "csv_path = os.path.join(dir, file_nm)\n",
    "excel_df = pd.read_csv(csv_path, dtype=str,sep='~')\n",
    "\n",
    "# # Apply the function to each cell in the DataFrame\n",
    "# illegal_chars_df = df.applymap(extract_illegal_chars)\n",
    "# # Filter out empty cells\n",
    "# cells_with_illegal_chars = illegal_chars_df[illegal_chars_df.applymap(lambda x: x != '')]\n",
    "\n",
    "# # Print the cells with illegal characters\n",
    "# print(cells_with_illegal_chars)\n",
    "\n",
    "# # Write the illegal characters to a text file\n",
    "# output_file_path = os.path.join(dir, 'illegal_characters.txt')\n",
    "# with open(output_file_path, 'w') as file:\n",
    "#     for index, row in cells_with_illegal_chars.iterrows():\n",
    "#         for cell in row:\n",
    "#             file.write(str(cell) + '\\n')\n",
    "\n",
    "# print(f\"Illegal characters have been written to {output_file_path}\")\n",
    "\n",
    "excel_file_nm = file_nm.replace('.txt', '.xlsx')\n",
    "excel_path = dir + \"\\\\\" + excel_file_nm \n",
    "\n",
    "cleaned_df = excel_df.map(remove_illegal_chars)\n",
    "# Find cells with illegal characters\n",
    "illegal_cells = cleaned_df.map(contains_illegal_chars)\n",
    "if illegal_cells.any().any():\n",
    "    print(\"There are still illegal characters in the DataFrame.\")\n",
    "    print(cleaned_df[illegal_cells])\n",
    "cleaned_df.to_excel(excel_path, index=False)\n",
    "print(f\"Conversion to excel successful {file_nm} to {excel_file_nm}\")\n"
   ]
  },
  {
   "cell_type": "code",
   "execution_count": null,
   "metadata": {},
   "outputs": [],
   "source": []
  },
  {
   "cell_type": "markdown",
   "metadata": {},
   "source": [
    "### Color Coding for File Processing Status Munich Re in Excel"
   ]
  },
  {
   "cell_type": "code",
   "execution_count": 13,
   "metadata": {},
   "outputs": [],
   "source": [
    "import openpyxl\n",
    "from openpyxl.styles import PatternFill\n"
   ]
  },
  {
   "cell_type": "code",
   "execution_count": 14,
   "metadata": {},
   "outputs": [],
   "source": [
    "def change_color(file_path):\n",
    "    # Load the workbook and select the active sheet\n",
    "    wb = openpyxl.load_workbook(file_path)\n",
    "    ws = wb.active\n",
    "\n",
    "    # Define the color mappings\n",
    "    color_mappings = {\n",
    "        \"Files in test region and need automations.\": \"FFFF00\",  # Yellow\n",
    "        \"Files not processed > 4 months\": \"FF0000\",  # Red\n",
    "        \"Files not processed for more than 2 months and less than 4 months\": \"FFFF00\",  # Yellow\n",
    "        \"Files which are in Run Off\": \"FF6600\",  # Orange\n",
    "        \"Processed and all set in the system\": \"00FF00\",  # Green\n",
    "        \"default\": \"CCCCCC\"  # Grey for all other cases\n",
    "    }\n",
    "\n",
    "    # Get the last row in column M\n",
    "    l_row = ws.max_row\n",
    "\n",
    "    # Iterate through the cells in column M\n",
    "    for row in range(2, l_row + 1):\n",
    "        cell = ws[f'M{row}']\n",
    "        value = cell.value\n",
    "        color = color_mappings.get(value, color_mappings[\"default\"])\n",
    "        fill = PatternFill(start_color=color, end_color=color, fill_type=\"solid\")\n",
    "        \n",
    "        # Apply the fill to the entire row\n",
    "        for col in range(1, ws.max_column + 1):\n",
    "            ws.cell(row=row, column=col).fill = fill\n",
    "\n",
    "    # Save the workbook\n",
    "    wb.save(file_path)\n",
    "\n"
   ]
  },
  {
   "cell_type": "code",
   "execution_count": 15,
   "metadata": {},
   "outputs": [],
   "source": [
    "# Demonstration of the function\n",
    "# Example usage\n",
    "# \\\\cvgs070131\\esplog\\esp\\UWdata\\SIP\\CIT_File_Report\\File_Processing_report_CIT_Daily_Destination.xlsm\n",
    "file_path = r'C:\\Users\\ny4007991\\OneDrive - Munich Re\\Professional\\Munich Re\\File_Processing_report_CIT_Daily_Destination.xlsm'\n",
    "change_color(file_path)"
   ]
  },
  {
   "cell_type": "code",
   "execution_count": null,
   "metadata": {},
   "outputs": [],
   "source": []
  }
 ],
 "metadata": {
  "kernelspec": {
   "display_name": "Python 3",
   "language": "python",
   "name": "python3"
  },
  "language_info": {
   "codemirror_mode": {
    "name": "ipython",
    "version": 3
   },
   "file_extension": ".py",
   "mimetype": "text/x-python",
   "name": "python",
   "nbconvert_exporter": "python",
   "pygments_lexer": "ipython3",
   "version": "3.12.3"
  }
 },
 "nbformat": 4,
 "nbformat_minor": 2
}
